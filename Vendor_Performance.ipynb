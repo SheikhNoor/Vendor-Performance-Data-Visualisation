{
 "cells": [
  {
   "metadata": {},
   "cell_type": "markdown",
   "source": [
    "# Vendor Performance Data Ingestion Pipeline\n",
    "This notebook provides an automated workflow for importing vendor-related CSV files into a local inventory.db SQLite database. The process is designed for scalability, logging, and efficient memory use, preparing the data for further vendor performance analysis.\n",
    "\n",
    "## Features:\n",
    "- Scans a specified data directory and locates all CSV files for ingestion.\n",
    "- Efficiently reads each file in manageable chunks to prevent memory overload.\n",
    "- Appends each batch directly to the relevant database table.\n",
    "- All steps and processing times are recorded in a dedicated log file for transparency and debugging."
   ],
   "id": "c0d1fba0b782d66f"
  },
  {
   "cell_type": "code",
   "id": "initial_id",
   "metadata": {
    "ExecuteTime": {
     "end_time": "2025-09-12T20:01:22.965531Z",
     "start_time": "2025-09-12T19:50:51.839842Z"
    }
   },
   "source": [
    "import pandas as pd\n",
    "import os\n",
    "from sqlalchemy import create_engine\n",
    "import logging\n",
    "import time\n",
    "logging.basicConfig(\n",
    "    filename=\"E:/Vendor Project/log/ingestion_db.log\",\n",
    "    level = logging.DEBUG,\n",
    "    format= \"%(asctime)s - %(name)s - %(levelname)s - %(message)s\",\n",
    "    filemode=\"a\"\n",
    ")\n",
    "engine = create_engine('sqlite:///inventory.db')\n",
    "\n",
    "def ingest_db(chunk, table_name, engine):\n",
    "    chunk.to_sql(table_name, con=engine, if_exists='append', index=False)\n",
    "def load_raw_data():\n",
    "    start = time.time()\n",
    "    for file in os.listdir('E:/Vendor Project/data'):\n",
    "        if '.csv' in file:\n",
    "            table_name = file[:-4]\n",
    "            logging.info(f\"Ingesting {table_name} in database\")\n",
    "            for chunk in pd.read_csv('E:/Vendor Project/data/'+file, chunksize=100000):  # adjust chunksize as needed\n",
    "                ingest_db(chunk, table_name, engine)\n",
    "    end = time.time()\n",
    "    total_time = (end-start)/60\n",
    "    logging.info(\"Finished ingesting data\")\n",
    "    logging.info(f\"Total time: {total_time} minutes\")\n",
    "\n",
    "if __name__ == \"__main__\":\n",
    "    load_raw_data()"
   ],
   "outputs": [],
   "execution_count": 1
  },
  {
   "metadata": {
    "ExecuteTime": {
     "end_time": "2025-09-12T20:01:23.314489Z",
     "start_time": "2025-09-12T20:01:23.297879Z"
    }
   },
   "cell_type": "code",
   "source": "",
   "id": "249cbf2d28347e8e",
   "outputs": [],
   "execution_count": null
  },
  {
   "metadata": {
    "ExecuteTime": {
     "end_time": "2025-09-12T20:01:23.455085Z",
     "start_time": "2025-09-12T20:01:23.445861Z"
    }
   },
   "cell_type": "code",
   "source": "",
   "id": "4ca0703beb90b732",
   "outputs": [],
   "execution_count": null
  }
 ],
 "metadata": {
  "kernelspec": {
   "display_name": "Python 3 (ipykernel)",
   "language": "python",
   "name": "python3"
  },
  "language_info": {
   "codemirror_mode": {
    "name": "ipython",
    "version": 3
   },
   "file_extension": ".py",
   "mimetype": "text/x-python",
   "name": "python",
   "nbconvert_exporter": "python",
   "pygments_lexer": "ipython3",
   "version": "3.13.5"
  }
 },
 "nbformat": 4,
 "nbformat_minor": 5
}
